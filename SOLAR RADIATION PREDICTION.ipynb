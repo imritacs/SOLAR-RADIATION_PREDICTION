{
 "cells": [
  {
   "cell_type": "code",
   "execution_count": 1,
   "id": "458f48f1",
   "metadata": {},
   "outputs": [],
   "source": [
    "import pandas as pd\n",
    "from pandas_profiling import ProfileReport \n",
    "import numpy as np\n",
    "from sklearn import metrics\n",
    "import matplotlib.pyplot as plt \n",
    "plt.rc(\"font\", size=14)\n",
    "import seaborn as sns\n",
    "sns.set(style=\"white\")\n",
    "sns.set(style=\"whitegrid\", color_codes=True)"
   ]
  },
  {
   "cell_type": "code",
   "execution_count": 2,
   "id": "e3e7db90",
   "metadata": {},
   "outputs": [
    {
     "name": "stdout",
     "output_type": "stream",
     "text": [
      "Data Shape: (26148, 12)\n"
     ]
    },
    {
     "data": {
      "text/html": [
       "<div>\n",
       "<style scoped>\n",
       "    .dataframe tbody tr th:only-of-type {\n",
       "        vertical-align: middle;\n",
       "    }\n",
       "\n",
       "    .dataframe tbody tr th {\n",
       "        vertical-align: top;\n",
       "    }\n",
       "\n",
       "    .dataframe thead th {\n",
       "        text-align: right;\n",
       "    }\n",
       "</style>\n",
       "<table border=\"1\" class=\"dataframe\">\n",
       "  <thead>\n",
       "    <tr style=\"text-align: right;\">\n",
       "      <th></th>\n",
       "      <th>Id</th>\n",
       "      <th>UNIXTime</th>\n",
       "      <th>Data</th>\n",
       "      <th>Time</th>\n",
       "      <th>Temperature</th>\n",
       "      <th>Pressure</th>\n",
       "      <th>Humidity</th>\n",
       "      <th>WindDirection(Degrees)</th>\n",
       "      <th>Speed</th>\n",
       "      <th>TimeSunRise</th>\n",
       "      <th>TimeSunSet</th>\n",
       "      <th>Radiation</th>\n",
       "    </tr>\n",
       "  </thead>\n",
       "  <tbody>\n",
       "    <tr>\n",
       "      <th>0</th>\n",
       "      <td>4152</td>\n",
       "      <td>1473879005</td>\n",
       "      <td>9/14/2016 12:00:00 AM</td>\n",
       "      <td>08:50:05</td>\n",
       "      <td>57</td>\n",
       "      <td>30.45</td>\n",
       "      <td>68</td>\n",
       "      <td>26.70</td>\n",
       "      <td>4.50</td>\n",
       "      <td>06:10:00</td>\n",
       "      <td>18:26:00</td>\n",
       "      <td>680.04</td>\n",
       "    </tr>\n",
       "    <tr>\n",
       "      <th>1</th>\n",
       "      <td>13047</td>\n",
       "      <td>1476293121</td>\n",
       "      <td>10/12/2016 12:00:00 AM</td>\n",
       "      <td>07:25:21</td>\n",
       "      <td>50</td>\n",
       "      <td>30.47</td>\n",
       "      <td>96</td>\n",
       "      <td>144.96</td>\n",
       "      <td>10.12</td>\n",
       "      <td>06:16:00</td>\n",
       "      <td>18:02:00</td>\n",
       "      <td>277.37</td>\n",
       "    </tr>\n",
       "    <tr>\n",
       "      <th>2</th>\n",
       "      <td>7420</td>\n",
       "      <td>1477993220</td>\n",
       "      <td>10/31/2016 12:00:00 AM</td>\n",
       "      <td>23:40:20</td>\n",
       "      <td>47</td>\n",
       "      <td>30.48</td>\n",
       "      <td>56</td>\n",
       "      <td>119.52</td>\n",
       "      <td>3.37</td>\n",
       "      <td>06:23:00</td>\n",
       "      <td>17:49:00</td>\n",
       "      <td>1.29</td>\n",
       "    </tr>\n",
       "    <tr>\n",
       "      <th>3</th>\n",
       "      <td>6508</td>\n",
       "      <td>1473013505</td>\n",
       "      <td>9/4/2016 12:00:00 AM</td>\n",
       "      <td>08:25:05</td>\n",
       "      <td>57</td>\n",
       "      <td>30.47</td>\n",
       "      <td>93</td>\n",
       "      <td>38.61</td>\n",
       "      <td>2.25</td>\n",
       "      <td>06:08:00</td>\n",
       "      <td>18:35:00</td>\n",
       "      <td>544.75</td>\n",
       "    </tr>\n",
       "    <tr>\n",
       "      <th>4</th>\n",
       "      <td>29110</td>\n",
       "      <td>1481885434</td>\n",
       "      <td>12/16/2016 12:00:00 AM</td>\n",
       "      <td>00:50:34</td>\n",
       "      <td>41</td>\n",
       "      <td>30.23</td>\n",
       "      <td>103</td>\n",
       "      <td>177.55</td>\n",
       "      <td>2.25</td>\n",
       "      <td>06:50:00</td>\n",
       "      <td>17:46:00</td>\n",
       "      <td>1.22</td>\n",
       "    </tr>\n",
       "  </tbody>\n",
       "</table>\n",
       "</div>"
      ],
      "text/plain": [
       "      Id    UNIXTime                    Data      Time  Temperature  Pressure  \\\n",
       "0   4152  1473879005   9/14/2016 12:00:00 AM  08:50:05           57     30.45   \n",
       "1  13047  1476293121  10/12/2016 12:00:00 AM  07:25:21           50     30.47   \n",
       "2   7420  1477993220  10/31/2016 12:00:00 AM  23:40:20           47     30.48   \n",
       "3   6508  1473013505    9/4/2016 12:00:00 AM  08:25:05           57     30.47   \n",
       "4  29110  1481885434  12/16/2016 12:00:00 AM  00:50:34           41     30.23   \n",
       "\n",
       "   Humidity  WindDirection(Degrees)  Speed TimeSunRise TimeSunSet  Radiation  \n",
       "0        68                   26.70   4.50    06:10:00   18:26:00     680.04  \n",
       "1        96                  144.96  10.12    06:16:00   18:02:00     277.37  \n",
       "2        56                  119.52   3.37    06:23:00   17:49:00       1.29  \n",
       "3        93                   38.61   2.25    06:08:00   18:35:00     544.75  \n",
       "4       103                  177.55   2.25    06:50:00   17:46:00       1.22  "
      ]
     },
     "execution_count": 2,
     "metadata": {},
     "output_type": "execute_result"
    }
   ],
   "source": [
    "train_data=pd.read_csv('C:/Users/Rita/Desktop/project/Solar-Radiation-Prediction/solar_train.csv')\n",
    "print('Data Shape:', train_data.shape)\n",
    "train_data.head()"
   ]
  },
  {
   "cell_type": "code",
   "execution_count": 3,
   "id": "0772f849",
   "metadata": {},
   "outputs": [
    {
     "name": "stdout",
     "output_type": "stream",
     "text": [
      "Data Shape: (6537, 2)\n"
     ]
    },
    {
     "data": {
      "text/html": [
       "<div>\n",
       "<style scoped>\n",
       "    .dataframe tbody tr th:only-of-type {\n",
       "        vertical-align: middle;\n",
       "    }\n",
       "\n",
       "    .dataframe tbody tr th {\n",
       "        vertical-align: top;\n",
       "    }\n",
       "\n",
       "    .dataframe thead th {\n",
       "        text-align: right;\n",
       "    }\n",
       "</style>\n",
       "<table border=\"1\" class=\"dataframe\">\n",
       "  <thead>\n",
       "    <tr style=\"text-align: right;\">\n",
       "      <th></th>\n",
       "      <th>22107</th>\n",
       "      <th>675.86</th>\n",
       "    </tr>\n",
       "  </thead>\n",
       "  <tbody>\n",
       "    <tr>\n",
       "      <th>0</th>\n",
       "      <td>3780</td>\n",
       "      <td>1286.85</td>\n",
       "    </tr>\n",
       "    <tr>\n",
       "      <th>1</th>\n",
       "      <td>13651</td>\n",
       "      <td>1.23</td>\n",
       "    </tr>\n",
       "    <tr>\n",
       "      <th>2</th>\n",
       "      <td>30473</td>\n",
       "      <td>4.43</td>\n",
       "    </tr>\n",
       "    <tr>\n",
       "      <th>3</th>\n",
       "      <td>9084</td>\n",
       "      <td>1.22</td>\n",
       "    </tr>\n",
       "    <tr>\n",
       "      <th>4</th>\n",
       "      <td>12469</td>\n",
       "      <td>546.85</td>\n",
       "    </tr>\n",
       "  </tbody>\n",
       "</table>\n",
       "</div>"
      ],
      "text/plain": [
       "   22107   675.86\n",
       "0   3780  1286.85\n",
       "1  13651     1.23\n",
       "2  30473     4.43\n",
       "3   9084     1.22\n",
       "4  12469   546.85"
      ]
     },
     "execution_count": 3,
     "metadata": {},
     "output_type": "execute_result"
    }
   ],
   "source": [
    "sample_submission=pd.read_csv('C:/Users/Rita/Desktop/project/Solar-Radiation-Prediction/sample_submission.csv')\n",
    "print('Data Shape:', sample_submission.shape)\n",
    "sample_submission.head()"
   ]
  },
  {
   "cell_type": "code",
   "execution_count": 4,
   "id": "9ea8c2b7",
   "metadata": {},
   "outputs": [
    {
     "data": {
      "text/html": [
       "<div>\n",
       "<style scoped>\n",
       "    .dataframe tbody tr th:only-of-type {\n",
       "        vertical-align: middle;\n",
       "    }\n",
       "\n",
       "    .dataframe tbody tr th {\n",
       "        vertical-align: top;\n",
       "    }\n",
       "\n",
       "    .dataframe thead th {\n",
       "        text-align: right;\n",
       "    }\n",
       "</style>\n",
       "<table border=\"1\" class=\"dataframe\">\n",
       "  <thead>\n",
       "    <tr style=\"text-align: right;\">\n",
       "      <th></th>\n",
       "      <th>Id</th>\n",
       "      <th>UNIXTime</th>\n",
       "      <th>Temperature</th>\n",
       "      <th>Pressure</th>\n",
       "      <th>Humidity</th>\n",
       "      <th>WindDirection(Degrees)</th>\n",
       "      <th>Speed</th>\n",
       "      <th>Radiation</th>\n",
       "    </tr>\n",
       "  </thead>\n",
       "  <tbody>\n",
       "    <tr>\n",
       "      <th>count</th>\n",
       "      <td>26148.000000</td>\n",
       "      <td>2.614800e+04</td>\n",
       "      <td>26148.000000</td>\n",
       "      <td>26148.000000</td>\n",
       "      <td>26148.000000</td>\n",
       "      <td>26148.000000</td>\n",
       "      <td>26148.000000</td>\n",
       "      <td>26148.000000</td>\n",
       "    </tr>\n",
       "    <tr>\n",
       "      <th>mean</th>\n",
       "      <td>16337.578668</td>\n",
       "      <td>1.478046e+09</td>\n",
       "      <td>51.104865</td>\n",
       "      <td>30.422835</td>\n",
       "      <td>75.005239</td>\n",
       "      <td>143.259970</td>\n",
       "      <td>6.248521</td>\n",
       "      <td>208.044780</td>\n",
       "    </tr>\n",
       "    <tr>\n",
       "      <th>std</th>\n",
       "      <td>9449.975676</td>\n",
       "      <td>3.005885e+06</td>\n",
       "      <td>6.213912</td>\n",
       "      <td>0.054724</td>\n",
       "      <td>25.993102</td>\n",
       "      <td>82.988177</td>\n",
       "      <td>3.484166</td>\n",
       "      <td>316.090247</td>\n",
       "    </tr>\n",
       "    <tr>\n",
       "      <th>min</th>\n",
       "      <td>0.000000</td>\n",
       "      <td>1.472724e+09</td>\n",
       "      <td>34.000000</td>\n",
       "      <td>30.190000</td>\n",
       "      <td>11.000000</td>\n",
       "      <td>0.090000</td>\n",
       "      <td>0.000000</td>\n",
       "      <td>1.130000</td>\n",
       "    </tr>\n",
       "    <tr>\n",
       "      <th>25%</th>\n",
       "      <td>8125.750000</td>\n",
       "      <td>1.475533e+09</td>\n",
       "      <td>46.000000</td>\n",
       "      <td>30.400000</td>\n",
       "      <td>56.000000</td>\n",
       "      <td>81.977500</td>\n",
       "      <td>3.370000</td>\n",
       "      <td>1.230000</td>\n",
       "    </tr>\n",
       "    <tr>\n",
       "      <th>50%</th>\n",
       "      <td>16379.000000</td>\n",
       "      <td>1.478038e+09</td>\n",
       "      <td>50.000000</td>\n",
       "      <td>30.430000</td>\n",
       "      <td>85.000000</td>\n",
       "      <td>147.645000</td>\n",
       "      <td>5.620000</td>\n",
       "      <td>2.710000</td>\n",
       "    </tr>\n",
       "    <tr>\n",
       "      <th>75%</th>\n",
       "      <td>24507.250000</td>\n",
       "      <td>1.480478e+09</td>\n",
       "      <td>55.000000</td>\n",
       "      <td>30.460000</td>\n",
       "      <td>97.000000</td>\n",
       "      <td>179.220000</td>\n",
       "      <td>7.870000</td>\n",
       "      <td>358.945000</td>\n",
       "    </tr>\n",
       "    <tr>\n",
       "      <th>max</th>\n",
       "      <td>32685.000000</td>\n",
       "      <td>1.483265e+09</td>\n",
       "      <td>71.000000</td>\n",
       "      <td>30.560000</td>\n",
       "      <td>103.000000</td>\n",
       "      <td>359.950000</td>\n",
       "      <td>39.370000</td>\n",
       "      <td>1601.260000</td>\n",
       "    </tr>\n",
       "  </tbody>\n",
       "</table>\n",
       "</div>"
      ],
      "text/plain": [
       "                 Id      UNIXTime   Temperature      Pressure      Humidity  \\\n",
       "count  26148.000000  2.614800e+04  26148.000000  26148.000000  26148.000000   \n",
       "mean   16337.578668  1.478046e+09     51.104865     30.422835     75.005239   \n",
       "std     9449.975676  3.005885e+06      6.213912      0.054724     25.993102   \n",
       "min        0.000000  1.472724e+09     34.000000     30.190000     11.000000   \n",
       "25%     8125.750000  1.475533e+09     46.000000     30.400000     56.000000   \n",
       "50%    16379.000000  1.478038e+09     50.000000     30.430000     85.000000   \n",
       "75%    24507.250000  1.480478e+09     55.000000     30.460000     97.000000   \n",
       "max    32685.000000  1.483265e+09     71.000000     30.560000    103.000000   \n",
       "\n",
       "       WindDirection(Degrees)         Speed     Radiation  \n",
       "count            26148.000000  26148.000000  26148.000000  \n",
       "mean               143.259970      6.248521    208.044780  \n",
       "std                 82.988177      3.484166    316.090247  \n",
       "min                  0.090000      0.000000      1.130000  \n",
       "25%                 81.977500      3.370000      1.230000  \n",
       "50%                147.645000      5.620000      2.710000  \n",
       "75%                179.220000      7.870000    358.945000  \n",
       "max                359.950000     39.370000   1601.260000  "
      ]
     },
     "execution_count": 4,
     "metadata": {},
     "output_type": "execute_result"
    }
   ],
   "source": [
    "train_data.describe()"
   ]
  },
  {
   "cell_type": "code",
   "execution_count": 5,
   "id": "0cf196d6",
   "metadata": {},
   "outputs": [
    {
     "data": {
      "application/vnd.jupyter.widget-view+json": {
       "model_id": "57dc23a178094ab0b75536888d0feb4e",
       "version_major": 2,
       "version_minor": 0
      },
      "text/plain": [
       "Summarize dataset:   0%|          | 0/25 [00:00<?, ?it/s]"
      ]
     },
     "metadata": {},
     "output_type": "display_data"
    },
    {
     "data": {
      "application/vnd.jupyter.widget-view+json": {
       "model_id": "a13869ee03b443118fa6cdae5d3f1e5d",
       "version_major": 2,
       "version_minor": 0
      },
      "text/plain": [
       "Generate report structure:   0%|          | 0/1 [00:00<?, ?it/s]"
      ]
     },
     "metadata": {},
     "output_type": "display_data"
    },
    {
     "data": {
      "application/vnd.jupyter.widget-view+json": {
       "model_id": "9ab9661b5245440d91eca0849d8ac89f",
       "version_major": 2,
       "version_minor": 0
      },
      "text/plain": [
       "Render HTML:   0%|          | 0/1 [00:00<?, ?it/s]"
      ]
     },
     "metadata": {},
     "output_type": "display_data"
    },
    {
     "data": {
      "application/vnd.jupyter.widget-view+json": {
       "model_id": "7c761eb1e7744807b648bbd7cffbbd11",
       "version_major": 2,
       "version_minor": 0
      },
      "text/plain": [
       "Export report to file:   0%|          | 0/1 [00:00<?, ?it/s]"
      ]
     },
     "metadata": {},
     "output_type": "display_data"
    }
   ],
   "source": [
    "profile = ProfileReport(df = train_data)\n",
    "profile.to_file(output_file = 'Pre-Profiling Report.html')"
   ]
  },
  {
   "cell_type": "code",
   "execution_count": 5,
   "id": "5bf08b02",
   "metadata": {},
   "outputs": [],
   "source": [
    "#drop_cols = ['region','Date']\n",
    "train_data=train_data.drop(labels=None, axis=0, index=None, columns='Data', level=None, inplace=False, errors='raise')\n",
    "train_data=train_data.drop(labels=None, axis=0, index=None, columns='Time', level=None, inplace=False, errors='raise')\n",
    "train_data=train_data.drop(labels=None, axis=0, index=None, columns='TimeSunRise', level=None, inplace=False, errors='raise')\n",
    "train_data=train_data.drop(labels=None, axis=0, index=None, columns='TimeSunSet', level=None, inplace=False, errors='raise')\n"
   ]
  },
  {
   "cell_type": "code",
   "execution_count": 6,
   "id": "1aa15766",
   "metadata": {},
   "outputs": [
    {
     "name": "stdout",
     "output_type": "stream",
     "text": [
      "Data Shape: (6538, 11)\n"
     ]
    },
    {
     "data": {
      "text/html": [
       "<div>\n",
       "<style scoped>\n",
       "    .dataframe tbody tr th:only-of-type {\n",
       "        vertical-align: middle;\n",
       "    }\n",
       "\n",
       "    .dataframe tbody tr th {\n",
       "        vertical-align: top;\n",
       "    }\n",
       "\n",
       "    .dataframe thead th {\n",
       "        text-align: right;\n",
       "    }\n",
       "</style>\n",
       "<table border=\"1\" class=\"dataframe\">\n",
       "  <thead>\n",
       "    <tr style=\"text-align: right;\">\n",
       "      <th></th>\n",
       "      <th>Id</th>\n",
       "      <th>UNIXTime</th>\n",
       "      <th>Data</th>\n",
       "      <th>Time</th>\n",
       "      <th>Temperature</th>\n",
       "      <th>Pressure</th>\n",
       "      <th>Humidity</th>\n",
       "      <th>WindDirection(Degrees)</th>\n",
       "      <th>Speed</th>\n",
       "      <th>TimeSunRise</th>\n",
       "      <th>TimeSunSet</th>\n",
       "    </tr>\n",
       "  </thead>\n",
       "  <tbody>\n",
       "    <tr>\n",
       "      <th>0</th>\n",
       "      <td>22107</td>\n",
       "      <td>1478720107</td>\n",
       "      <td>11/9/2016 12:00:00 AM</td>\n",
       "      <td>09:35:07</td>\n",
       "      <td>59</td>\n",
       "      <td>30.47</td>\n",
       "      <td>44</td>\n",
       "      <td>312.67</td>\n",
       "      <td>3.37</td>\n",
       "      <td>06:28:00</td>\n",
       "      <td>17:45:00</td>\n",
       "    </tr>\n",
       "    <tr>\n",
       "      <th>1</th>\n",
       "      <td>3780</td>\n",
       "      <td>1474063503</td>\n",
       "      <td>9/16/2016 12:00:00 AM</td>\n",
       "      <td>12:05:03</td>\n",
       "      <td>59</td>\n",
       "      <td>30.48</td>\n",
       "      <td>83</td>\n",
       "      <td>38.01</td>\n",
       "      <td>6.75</td>\n",
       "      <td>06:10:00</td>\n",
       "      <td>18:25:00</td>\n",
       "    </tr>\n",
       "    <tr>\n",
       "      <th>2</th>\n",
       "      <td>13651</td>\n",
       "      <td>1476109221</td>\n",
       "      <td>10/10/2016 12:00:00 AM</td>\n",
       "      <td>04:20:21</td>\n",
       "      <td>47</td>\n",
       "      <td>30.39</td>\n",
       "      <td>78</td>\n",
       "      <td>213.62</td>\n",
       "      <td>5.62</td>\n",
       "      <td>06:16:00</td>\n",
       "      <td>18:03:00</td>\n",
       "    </tr>\n",
       "    <tr>\n",
       "      <th>3</th>\n",
       "      <td>30473</td>\n",
       "      <td>1481475056</td>\n",
       "      <td>12/11/2016 12:00:00 AM</td>\n",
       "      <td>06:50:56</td>\n",
       "      <td>45</td>\n",
       "      <td>30.40</td>\n",
       "      <td>98</td>\n",
       "      <td>176.63</td>\n",
       "      <td>4.50</td>\n",
       "      <td>06:47:00</td>\n",
       "      <td>17:44:00</td>\n",
       "    </tr>\n",
       "    <tr>\n",
       "      <th>4</th>\n",
       "      <td>9084</td>\n",
       "      <td>1477493117</td>\n",
       "      <td>10/26/2016 12:00:00 AM</td>\n",
       "      <td>04:45:17</td>\n",
       "      <td>45</td>\n",
       "      <td>30.40</td>\n",
       "      <td>34</td>\n",
       "      <td>175.89</td>\n",
       "      <td>6.75</td>\n",
       "      <td>06:21:00</td>\n",
       "      <td>17:52:00</td>\n",
       "    </tr>\n",
       "  </tbody>\n",
       "</table>\n",
       "</div>"
      ],
      "text/plain": [
       "      Id    UNIXTime                    Data      Time  Temperature  Pressure  \\\n",
       "0  22107  1478720107   11/9/2016 12:00:00 AM  09:35:07           59     30.47   \n",
       "1   3780  1474063503   9/16/2016 12:00:00 AM  12:05:03           59     30.48   \n",
       "2  13651  1476109221  10/10/2016 12:00:00 AM  04:20:21           47     30.39   \n",
       "3  30473  1481475056  12/11/2016 12:00:00 AM  06:50:56           45     30.40   \n",
       "4   9084  1477493117  10/26/2016 12:00:00 AM  04:45:17           45     30.40   \n",
       "\n",
       "   Humidity  WindDirection(Degrees)  Speed TimeSunRise TimeSunSet  \n",
       "0        44                  312.67   3.37    06:28:00   17:45:00  \n",
       "1        83                   38.01   6.75    06:10:00   18:25:00  \n",
       "2        78                  213.62   5.62    06:16:00   18:03:00  \n",
       "3        98                  176.63   4.50    06:47:00   17:44:00  \n",
       "4        34                  175.89   6.75    06:21:00   17:52:00  "
      ]
     },
     "execution_count": 6,
     "metadata": {},
     "output_type": "execute_result"
    }
   ],
   "source": [
    "test_data=pd.read_csv('C:/Users/Rita/Desktop/project/Solar-Radiation-Prediction/solar_test.csv')\n",
    "print('Data Shape:', test_data.shape)\n",
    "test_data.head()"
   ]
  },
  {
   "cell_type": "code",
   "execution_count": 7,
   "id": "0d7df041",
   "metadata": {},
   "outputs": [],
   "source": [
    "test_data=test_data.drop(labels=None, axis=0, index=None, columns='Data', level=None, inplace=False, errors='raise')\n",
    "test_data=test_data.drop(labels=None, axis=0, index=None, columns='Time', level=None, inplace=False, errors='raise')\n",
    "test_data=test_data.drop(labels=None, axis=0, index=None, columns='TimeSunRise', level=None, inplace=False, errors='raise')\n",
    "test_data=test_data.drop(labels=None, axis=0, index=None, columns='TimeSunSet', level=None, inplace=False, errors='raise')\n"
   ]
  },
  {
   "cell_type": "code",
   "execution_count": 8,
   "id": "4e44b33d",
   "metadata": {},
   "outputs": [
    {
     "data": {
      "text/plain": [
       "Id                        0\n",
       "UNIXTime                  0\n",
       "Temperature               0\n",
       "Pressure                  0\n",
       "Humidity                  0\n",
       "WindDirection(Degrees)    0\n",
       "Speed                     0\n",
       "Radiation                 0\n",
       "dtype: int64"
      ]
     },
     "execution_count": 8,
     "metadata": {},
     "output_type": "execute_result"
    }
   ],
   "source": [
    "train_data.isnull().sum()"
   ]
  },
  {
   "cell_type": "code",
   "execution_count": 8,
   "id": "808dabe9",
   "metadata": {},
   "outputs": [
    {
     "data": {
      "text/plain": [
       "Text(0.5, 1.0, 'Correlation between features')"
      ]
     },
     "execution_count": 8,
     "metadata": {},
     "output_type": "execute_result"
    },
    {
     "data": {
      "image/png": "[encoded data removed]",
      "text/plain": [
       "<Figure size 720x720 with 2 Axes>"
      ]
     },
     "metadata": {},
     "output_type": "display_data"
    }
   ],
   "source": [
    "corr = train_data.corr()\n",
    "plt.figure(figsize=(10,10))\n",
    "sns.heatmap(corr, square = True, annot = True,vmin=-1, vmax=1) #  vmin=-1, vmax=1\n",
    "plt.title('Correlation between features')"
   ]
  },
  {
   "cell_type": "code",
   "execution_count": 9,
   "id": "06fa0828",
   "metadata": {},
   "outputs": [
    {
     "data": {
      "text/plain": [
       "Text(0.5, 1.0, 'Correlation between features')"
      ]
     },
     "execution_count": 9,
     "metadata": {},
     "output_type": "execute_result"
    },
    {
     "data": {
      "image/png": "[encoded data removed]",
      "text/plain": [
       "<Figure size 720x720 with 2 Axes>"
      ]
     },
     "metadata": {},
     "output_type": "display_data"
    }
   ],
   "source": [
    "corr = test_data.corr()\n",
    "plt.figure(figsize=(10,10))\n",
    "sns.heatmap(corr, square = True, annot = True,vmin=-1, vmax=1) #  vmin=-1, vmax=1\n",
    "plt.title('Correlation between features')"
   ]
  },
  {
   "cell_type": "code",
   "execution_count": 9,
   "id": "ac41cab5",
   "metadata": {},
   "outputs": [
    {
     "data": {
      "text/plain": [
       "8"
      ]
     },
     "execution_count": 9,
     "metadata": {},
     "output_type": "execute_result"
    }
   ],
   "source": [
    "train_data.shape[1]"
   ]
  },
  {
   "cell_type": "code",
   "execution_count": 10,
   "id": "bca890eb",
   "metadata": {},
   "outputs": [
    {
     "data": {
      "text/plain": [
       "1.22      1751\n",
       "1.23      1692\n",
       "1.21      1623\n",
       "1.24      1357\n",
       "1.20      1247\n",
       "          ... \n",
       "166.17       1\n",
       "85.67        1\n",
       "222.47       1\n",
       "767.44       1\n",
       "899.86       1\n",
       "Name: Radiation, Length: 11826, dtype: int64"
      ]
     },
     "execution_count": 10,
     "metadata": {},
     "output_type": "execute_result"
    }
   ],
   "source": [
    "train_data['Radiation'].value_counts()"
   ]
  },
  {
   "cell_type": "code",
   "execution_count": 11,
   "id": "bb72ce27",
   "metadata": {},
   "outputs": [
    {
     "data": {
      "text/plain": [
       "208.04478048034267"
      ]
     },
     "execution_count": 11,
     "metadata": {},
     "output_type": "execute_result"
    }
   ],
   "source": [
    "train_data['Radiation'].sum()/train_data['Radiation'].shape[0]"
   ]
  },
  {
   "cell_type": "code",
   "execution_count": 14,
   "id": "8e49117c",
   "metadata": {},
   "outputs": [
    {
     "data": {
      "text/html": [
       "<div>\n",
       "<style scoped>\n",
       "    .dataframe tbody tr th:only-of-type {\n",
       "        vertical-align: middle;\n",
       "    }\n",
       "\n",
       "    .dataframe tbody tr th {\n",
       "        vertical-align: top;\n",
       "    }\n",
       "\n",
       "    .dataframe thead th {\n",
       "        text-align: right;\n",
       "    }\n",
       "</style>\n",
       "<table border=\"1\" class=\"dataframe\">\n",
       "  <thead>\n",
       "    <tr style=\"text-align: right;\">\n",
       "      <th></th>\n",
       "      <th>Id</th>\n",
       "      <th>UNIXTime</th>\n",
       "      <th>Temperature</th>\n",
       "      <th>Pressure</th>\n",
       "      <th>Humidity</th>\n",
       "      <th>WindDirection(Degrees)</th>\n",
       "      <th>Speed</th>\n",
       "    </tr>\n",
       "  </thead>\n",
       "  <tbody>\n",
       "    <tr>\n",
       "      <th>0</th>\n",
       "      <td>4152</td>\n",
       "      <td>1473879005</td>\n",
       "      <td>57</td>\n",
       "      <td>30.45</td>\n",
       "      <td>68</td>\n",
       "      <td>26.70</td>\n",
       "      <td>4.50</td>\n",
       "    </tr>\n",
       "    <tr>\n",
       "      <th>1</th>\n",
       "      <td>13047</td>\n",
       "      <td>1476293121</td>\n",
       "      <td>50</td>\n",
       "      <td>30.47</td>\n",
       "      <td>96</td>\n",
       "      <td>144.96</td>\n",
       "      <td>10.12</td>\n",
       "    </tr>\n",
       "    <tr>\n",
       "      <th>2</th>\n",
       "      <td>7420</td>\n",
       "      <td>1477993220</td>\n",
       "      <td>47</td>\n",
       "      <td>30.48</td>\n",
       "      <td>56</td>\n",
       "      <td>119.52</td>\n",
       "      <td>3.37</td>\n",
       "    </tr>\n",
       "    <tr>\n",
       "      <th>3</th>\n",
       "      <td>6508</td>\n",
       "      <td>1473013505</td>\n",
       "      <td>57</td>\n",
       "      <td>30.47</td>\n",
       "      <td>93</td>\n",
       "      <td>38.61</td>\n",
       "      <td>2.25</td>\n",
       "    </tr>\n",
       "    <tr>\n",
       "      <th>4</th>\n",
       "      <td>29110</td>\n",
       "      <td>1481885434</td>\n",
       "      <td>41</td>\n",
       "      <td>30.23</td>\n",
       "      <td>103</td>\n",
       "      <td>177.55</td>\n",
       "      <td>2.25</td>\n",
       "    </tr>\n",
       "  </tbody>\n",
       "</table>\n",
       "</div>"
      ],
      "text/plain": [
       "      Id    UNIXTime  Temperature  Pressure  Humidity  WindDirection(Degrees)  \\\n",
       "0   4152  1473879005           57     30.45        68                   26.70   \n",
       "1  13047  1476293121           50     30.47        96                  144.96   \n",
       "2   7420  1477993220           47     30.48        56                  119.52   \n",
       "3   6508  1473013505           57     30.47        93                   38.61   \n",
       "4  29110  1481885434           41     30.23       103                  177.55   \n",
       "\n",
       "   Speed  \n",
       "0   4.50  \n",
       "1  10.12  \n",
       "2   3.37  \n",
       "3   2.25  \n",
       "4   2.25  "
      ]
     },
     "execution_count": 14,
     "metadata": {},
     "output_type": "execute_result"
    }
   ],
   "source": [
    "X = train_data.drop(['Radiation'], axis=1)\n",
    "X.head()"
   ]
  },
  {
   "cell_type": "code",
   "execution_count": 15,
   "id": "66950d16",
   "metadata": {},
   "outputs": [
    {
     "data": {
      "text/plain": [
       "0        680.04\n",
       "1        277.37\n",
       "2          1.29\n",
       "3        544.75\n",
       "4          1.22\n",
       "          ...  \n",
       "26143    216.29\n",
       "26144      1.47\n",
       "26145      1.20\n",
       "26146    659.12\n",
       "26147      1.18\n",
       "Name: Radiation, Length: 26148, dtype: float64"
      ]
     },
     "execution_count": 15,
     "metadata": {},
     "output_type": "execute_result"
    }
   ],
   "source": [
    "y = train_data[\"Radiation\"]\n",
    "y"
   ]
  },
  {
   "cell_type": "code",
   "execution_count": 17,
   "id": "26e79b0b",
   "metadata": {},
   "outputs": [],
   "source": [
    "from sklearn.model_selection import train_test_split\n",
    "X_train, X_test, y_train, y_test = train_test_split(X, y, test_size=0.20, random_state=0)"
   ]
  },
  {
   "cell_type": "code",
   "execution_count": 18,
   "id": "bab9ba71",
   "metadata": {},
   "outputs": [
    {
     "name": "stdout",
     "output_type": "stream",
     "text": [
      "(20918, 7)\n",
      "(20918,)\n",
      "(5230, 7)\n",
      "(5230,)\n"
     ]
    }
   ],
   "source": [
    "print(X_train.shape)\n",
    "print(y_train.shape)\n",
    "print(X_test.shape)\n",
    "print(y_test.shape)"
   ]
  },
  {
   "cell_type": "code",
   "execution_count": 19,
   "id": "d9db316a",
   "metadata": {},
   "outputs": [
    {
     "data": {
      "text/plain": [
       "LinearRegression()"
      ]
     },
     "execution_count": 19,
     "metadata": {},
     "output_type": "execute_result"
    }
   ],
   "source": [
    "from sklearn.linear_model import LinearRegression\n",
    "model_lr = LinearRegression()\n",
    "model_lr.fit(X_train,y_train)"
   ]
  },
  {
   "cell_type": "code",
   "execution_count": 20,
   "id": "24a26dea",
   "metadata": {},
   "outputs": [],
   "source": [
    "y_pred_lr=model_lr.predict(X_test)"
   ]
  },
  {
   "cell_type": "code",
   "execution_count": 21,
   "id": "19819bc1",
   "metadata": {},
   "outputs": [],
   "source": [
    "x_pred_lr=model_lr.predict(X_train)\n",
    "y_pred_lr=model_lr.predict(X_test)"
   ]
  },
  {
   "cell_type": "code",
   "execution_count": 22,
   "id": "26b95abd",
   "metadata": {},
   "outputs": [
    {
     "data": {
      "text/plain": [
       "array([446.31888645, 463.77313928, -20.77409338, ..., 127.14464645,\n",
       "       154.78545315, 545.3040473 ])"
      ]
     },
     "execution_count": 22,
     "metadata": {},
     "output_type": "execute_result"
    }
   ],
   "source": [
    "y_p=model_lr.predict(test_data)\n",
    "y_p"
   ]
  },
  {
   "cell_type": "code",
   "execution_count": 23,
   "id": "f3e11553",
   "metadata": {},
   "outputs": [
    {
     "data": {
      "text/plain": [
       "array([446.31888645, 463.77313928, -20.77409338, ..., 127.14464645,\n",
       "       154.78545315, 545.3040473 ])"
      ]
     },
     "execution_count": 23,
     "metadata": {},
     "output_type": "execute_result"
    }
   ],
   "source": [
    "prediction_rf1 = pd.DataFrame()\n",
    "prediction1_rf1 = model_lr.predict(test_data)\n",
    "test_prediction1_rf1=prediction1_rf1\n",
    "test_prediction1_rf1"
   ]
  },
  {
   "cell_type": "code",
   "execution_count": 34,
   "id": "8272de49",
   "metadata": {},
   "outputs": [
    {
     "name": "stdout",
     "output_type": "stream",
     "text": [
      "40303.48453525304\n"
     ]
    }
   ],
   "source": [
    "from sklearn.metrics import mean_squared_error\n",
    "rms = mean_squared_error(y_test, y_pred_lr, squared=True)\n",
    "print(rms)"
   ]
  },
  {
   "cell_type": "code",
   "execution_count": 33,
   "id": "5581247d",
   "metadata": {},
   "outputs": [
    {
     "name": "stdout",
     "output_type": "stream",
     "text": [
      "               0\n",
      "0     228.319261\n",
      "1     140.109750\n",
      "2      55.665984\n",
      "3     657.242115\n",
      "4     -54.413763\n",
      "...          ...\n",
      "5225  -39.468168\n",
      "5226  143.635251\n",
      "5227  293.196520\n",
      "5228  264.107502\n",
      "5229    8.978064\n",
      "\n",
      "[5230 rows x 1 columns]\n"
     ]
    }
   ],
   "source": [
    "predict = model_lr.predict(X_test)\n",
    "pred=pd.DataFrame(predict)\n",
    "#print(test_data['Id'])\n",
    "pred1=pred\n",
    "print(pred1)"
   ]
  },
  {
   "cell_type": "code",
   "execution_count": 42,
   "id": "55c81fe8",
   "metadata": {},
   "outputs": [],
   "source": [
    "predic = pd.DataFrame(test_prediction1_rf1,test_data.Id,columns=['predict']).to_csv('data.csv',header=False)"
   ]
  }
 ],
 "metadata": {
  "kernelspec": {
   "display_name": "Python 3",
   "language": "python",
   "name": "python3"
  },
  "language_info": {
   "codemirror_mode": {
    "name": "ipython",
    "version": 3
   },
   "file_extension": ".py",
   "mimetype": "text/x-python",
   "name": "python",
   "nbconvert_exporter": "python",
   "pygments_lexer": "ipython3",
   "version": "3.8.8"
  }
 },
 "nbformat": 4,
 "nbformat_minor": 5
}
